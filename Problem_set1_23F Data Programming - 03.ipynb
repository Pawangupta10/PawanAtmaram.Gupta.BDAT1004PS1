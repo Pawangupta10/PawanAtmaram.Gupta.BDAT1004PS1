{
 "cells": [
  {
   "cell_type": "markdown",
   "id": "6d3cdd0c",
   "metadata": {},
   "source": [
    "# Answer 1"
   ]
  },
  {
   "cell_type": "code",
   "execution_count": 32,
   "id": "20c04d23",
   "metadata": {},
   "outputs": [
    {
     "data": {
      "text/plain": [
       "int"
      ]
     },
     "execution_count": 32,
     "metadata": {},
     "output_type": "execute_result"
    }
   ],
   "source": [
    "type(5)"
   ]
  },
  {
   "cell_type": "code",
   "execution_count": 33,
   "id": "6746e601",
   "metadata": {},
   "outputs": [
    {
     "data": {
      "text/plain": [
       "float"
      ]
     },
     "execution_count": 33,
     "metadata": {},
     "output_type": "execute_result"
    }
   ],
   "source": [
    "type(5.0)"
   ]
  },
  {
   "cell_type": "code",
   "execution_count": 34,
   "id": "f31940cb",
   "metadata": {},
   "outputs": [
    {
     "data": {
      "text/plain": [
       "bool"
      ]
     },
     "execution_count": 34,
     "metadata": {},
     "output_type": "execute_result"
    }
   ],
   "source": [
    "type(5 > 1)"
   ]
  },
  {
   "cell_type": "code",
   "execution_count": 35,
   "id": "2549c069",
   "metadata": {},
   "outputs": [
    {
     "data": {
      "text/plain": [
       "str"
      ]
     },
     "execution_count": 35,
     "metadata": {},
     "output_type": "execute_result"
    }
   ],
   "source": [
    "type('5')"
   ]
  },
  {
   "cell_type": "code",
   "execution_count": 36,
   "id": "17f3857a",
   "metadata": {},
   "outputs": [
    {
     "data": {
      "text/plain": [
       "int"
      ]
     },
     "execution_count": 36,
     "metadata": {},
     "output_type": "execute_result"
    }
   ],
   "source": [
    "type(5 * 2)"
   ]
  },
  {
   "cell_type": "code",
   "execution_count": 37,
   "id": "e8289bdc",
   "metadata": {},
   "outputs": [
    {
     "data": {
      "text/plain": [
       "str"
      ]
     },
     "execution_count": 37,
     "metadata": {},
     "output_type": "execute_result"
    }
   ],
   "source": [
    "type('5' * 2)"
   ]
  },
  {
   "cell_type": "code",
   "execution_count": 38,
   "id": "19712beb",
   "metadata": {},
   "outputs": [
    {
     "data": {
      "text/plain": [
       "str"
      ]
     },
     "execution_count": 38,
     "metadata": {},
     "output_type": "execute_result"
    }
   ],
   "source": [
    "type('5' + '2')"
   ]
  },
  {
   "cell_type": "code",
   "execution_count": 39,
   "id": "9ad119e2",
   "metadata": {},
   "outputs": [
    {
     "data": {
      "text/plain": [
       "float"
      ]
     },
     "execution_count": 39,
     "metadata": {},
     "output_type": "execute_result"
    }
   ],
   "source": [
    "type(5 / 2)"
   ]
  },
  {
   "cell_type": "code",
   "execution_count": 40,
   "id": "4656c898",
   "metadata": {},
   "outputs": [
    {
     "data": {
      "text/plain": [
       "int"
      ]
     },
     "execution_count": 40,
     "metadata": {},
     "output_type": "execute_result"
    }
   ],
   "source": [
    "type(5 % 2)"
   ]
  },
  {
   "cell_type": "code",
   "execution_count": 41,
   "id": "48dd9252",
   "metadata": {},
   "outputs": [
    {
     "data": {
      "text/plain": [
       "set"
      ]
     },
     "execution_count": 41,
     "metadata": {},
     "output_type": "execute_result"
    }
   ],
   "source": [
    "type({5, 2, 1})"
   ]
  },
  {
   "cell_type": "code",
   "execution_count": 42,
   "id": "cc212344",
   "metadata": {},
   "outputs": [
    {
     "data": {
      "text/plain": [
       "bool"
      ]
     },
     "execution_count": 42,
     "metadata": {},
     "output_type": "execute_result"
    }
   ],
   "source": [
    "type(5 == 3)"
   ]
  },
  {
   "cell_type": "code",
   "execution_count": 43,
   "id": "89723316",
   "metadata": {},
   "outputs": [
    {
     "data": {
      "text/plain": [
       "float"
      ]
     },
     "execution_count": 43,
     "metadata": {},
     "output_type": "execute_result"
    }
   ],
   "source": [
    "import math\n",
    "type(math.pi)"
   ]
  },
  {
   "cell_type": "markdown",
   "id": "070cfc70",
   "metadata": {},
   "source": [
    "# Answer 2"
   ]
  },
  {
   "cell_type": "code",
   "execution_count": null,
   "id": "b8139bf2",
   "metadata": {},
   "outputs": [],
   "source": [
    "a"
   ]
  },
  {
   "cell_type": "code",
   "execution_count": 1,
   "id": "f7b14832",
   "metadata": {},
   "outputs": [
    {
     "name": "stdout",
     "output_type": "stream",
     "text": [
      "Number of letters: 34\n"
     ]
    }
   ],
   "source": [
    "word_a = 'Supercalifragilisticexpialidocious'\n",
    "num_letters_a = len(word_a)\n",
    "print(\"Number of letters:\", num_letters_a)"
   ]
  },
  {
   "cell_type": "code",
   "execution_count": null,
   "id": "b16e0c8f",
   "metadata": {},
   "outputs": [],
   "source": [
    "b"
   ]
  },
  {
   "cell_type": "code",
   "execution_count": 2,
   "id": "df905dd7",
   "metadata": {},
   "outputs": [
    {
     "name": "stdout",
     "output_type": "stream",
     "text": [
      "Contains 'ice' as a substring: True\n"
     ]
    }
   ],
   "source": [
    "substring_b = 'ice'\n",
    "contains_substring_b = substring_b in word_a\n",
    "print(\"Contains 'ice' as a substring:\", contains_substring_b)"
   ]
  },
  {
   "cell_type": "code",
   "execution_count": null,
   "id": "5d245fe1",
   "metadata": {},
   "outputs": [],
   "source": [
    "c"
   ]
  },
  {
   "cell_type": "code",
   "execution_count": 3,
   "id": "a9c7fa7c",
   "metadata": {},
   "outputs": [
    {
     "name": "stdout",
     "output_type": "stream",
     "text": [
      "Longest word: Supercalifragilisticexpialidocious\n"
     ]
    }
   ],
   "source": [
    "word_c1 = 'Supercalifragilisticexpialidocious'\n",
    "word_c2 = 'Honorificabilitudinitatibus'\n",
    "word_c3 = 'Bababadalgharaghtakamminarronnkonn'\n",
    "longest_word_c = max(word_c1, word_c2, word_c3, key=len)\n",
    "print(\"Longest word:\", longest_word_c)"
   ]
  },
  {
   "cell_type": "code",
   "execution_count": null,
   "id": "2d5987a7",
   "metadata": {},
   "outputs": [],
   "source": [
    "d"
   ]
  },
  {
   "cell_type": "code",
   "execution_count": 4,
   "id": "7c1317d6",
   "metadata": {},
   "outputs": [
    {
     "name": "stdout",
     "output_type": "stream",
     "text": [
      "First composer: Bartok\n",
      "Last composer: Buxtehude\n"
     ]
    }
   ],
   "source": [
    "composers_d = ['Berlioz', 'Borodin', 'Brian', 'Bartok', 'Bellini', 'Buxtehude', 'Bernstein']\n",
    "first_composer_d = min(composers_d)\n",
    "last_composer_d = max(composers_d)\n",
    "print(\"First composer:\", first_composer_d)\n",
    "print(\"Last composer:\", last_composer_d)"
   ]
  },
  {
   "cell_type": "markdown",
   "id": "1da55901",
   "metadata": {},
   "source": [
    "# Answer 3"
   ]
  },
  {
   "cell_type": "code",
   "execution_count": 44,
   "id": "178bc050",
   "metadata": {},
   "outputs": [
    {
     "name": "stdout",
     "output_type": "stream",
     "text": [
      "1.7320508075688772\n"
     ]
    }
   ],
   "source": [
    "import math\n",
    "\n",
    "def triangleArea(a, b, c):\n",
    "    s = (a + b + c) / 2\n",
    "    area = math.sqrt(s * (s - a) * (s - b) * (s - c))\n",
    "    return area\n",
    "    \n",
    "result = triangleArea(2, 2, 2)\n",
    "print(result)"
   ]
  },
  {
   "cell_type": "markdown",
   "id": "27bdde0b",
   "metadata": {},
   "source": [
    "# Answer 4"
   ]
  },
  {
   "cell_type": "code",
   "execution_count": 45,
   "id": "bb721c3d",
   "metadata": {},
   "outputs": [
    {
     "name": "stdout",
     "output_type": "stream",
     "text": [
      "Input the number of elements to be stored in the array: 5\n",
      "element - 0 : 25\n",
      "element - 1 : 47\n",
      "element - 2 : 42\n",
      "element - 3 : 56\n",
      "element - 4 : 32\n",
      "The Even elements are:\n",
      "42 56 32\n",
      "The Odd elements are:\n",
      "25 47\n"
     ]
    }
   ],
   "source": [
    "num_elements = int(input(\"Input the number of elements to be stored in the array: \"))\n",
    "even_numbers = []\n",
    "odd_numbers = []\n",
    "\n",
    "\n",
    "for i in range(num_elements):\n",
    "    element = int(input(f\"element - {i} : \"))\n",
    "    \n",
    "    if element % 2 == 0:\n",
    "        even_numbers.append(element)\n",
    "    else:\n",
    "        odd_numbers.append(element)\n",
    "\n",
    "print(\"The Even elements are:\")\n",
    "print(\" \".join(map(str, even_numbers)))\n",
    "print(\"The Odd elements are:\")\n",
    "print(\" \".join(map(str, odd_numbers)))"
   ]
  },
  {
   "cell_type": "markdown",
   "id": "653ea3cc",
   "metadata": {},
   "source": [
    "# Answer 5"
   ]
  },
  {
   "cell_type": "code",
   "execution_count": null,
   "id": "18ba2743",
   "metadata": {},
   "outputs": [],
   "source": [
    "a"
   ]
  },
  {
   "cell_type": "code",
   "execution_count": 46,
   "id": "6a8114e1",
   "metadata": {},
   "outputs": [
    {
     "name": "stdout",
     "output_type": "stream",
     "text": [
      "True\n",
      "False\n"
     ]
    }
   ],
   "source": [
    "def inside(x,y,x1,y1,x2,y2):\n",
    "    if ((x > x1 and x <= x2) and (y > y1 and y <= y2)):\n",
    "        print(\"True\")\n",
    "    else:\n",
    "        print(\"False\")\n",
    "        \n",
    "inside(1,1,0,0,2,3)\n",
    "inside(-1,-1,0,0,2,3)"
   ]
  },
  {
   "cell_type": "code",
   "execution_count": null,
   "id": "193f6c98",
   "metadata": {},
   "outputs": [],
   "source": [
    "b"
   ]
  },
  {
   "cell_type": "code",
   "execution_count": 15,
   "id": "c73ae1ef",
   "metadata": {},
   "outputs": [
    {
     "name": "stdout",
     "output_type": "stream",
     "text": [
      "False\n"
     ]
    }
   ],
   "source": [
    "point_x = 1\n",
    "point_y = 1\n",
    "\n",
    "is_in_rectangle1 = inside(point_x, point_y, 0.3, 0.5, 1.1, 0.7)\n",
    "is_in_rectangle2 = inside(point_x, point_y, 1, 1, 2, 2)\n",
    "\n",
    "is_in_both_rectangles = is_in_rectangle1 and is_in_rectangle2\n",
    "\n",
    "print(is_in_both_rectangles)"
   ]
  },
  {
   "cell_type": "markdown",
   "id": "f0cf86c5",
   "metadata": {},
   "source": [
    "# Answer 6"
   ]
  },
  {
   "cell_type": "code",
   "execution_count": 47,
   "id": "7c3a1421",
   "metadata": {},
   "outputs": [
    {
     "name": "stdout",
     "output_type": "stream",
     "text": [
      "appyhay\n",
      "enterway\n"
     ]
    }
   ],
   "source": [
    "def pig(word):\n",
    "    word = word.lower()\n",
    "    \n",
    "    if word[0] in 'aeiou':\n",
    "        pig_latin_word = word + 'way'\n",
    "    else:\n",
    "        for index, char in enumerate(word):\n",
    "            if char in 'aeiou':\n",
    "                break\n",
    "        \n",
    "        pig_latin_word = word[index:] + word[:index] + 'ay'\n",
    "    \n",
    "    return pig_latin_word\n",
    "\n",
    "result1 = pig('happy')\n",
    "result2 = pig('Enter')\n",
    "print(result1)\n",
    "print(result2)"
   ]
  },
  {
   "cell_type": "markdown",
   "id": "aabf6ee1",
   "metadata": {},
   "source": [
    "# Answer 7"
   ]
  },
  {
   "cell_type": "code",
   "execution_count": 48,
   "id": "20a1a72c",
   "metadata": {},
   "outputs": [
    {
     "name": "stdout",
     "output_type": "stream",
     "text": [
      "['AB', 'AB', 'B', 'O', 'A', 'A', 'AB', 'O', 'AB', 'A', 'O', 'O', 'A', 'A', 'A', 'O', 'O', 'O', 'AB', 'O', 'A', 'A', 'A', 'A', 'A', 'AB', 'AB', 'A', 'AB', 'O', 'AB', 'O', 'A', 'O', 'O', 'O', 'AB', 'O', 'AB', 'AB', 'AB', 'A', 'A', 'O']\n",
      "There are  15  patients of type A\n",
      "There are  1  patients of type B\n",
      "There are  13  patients of type AB\n",
      "There are  15  patients of type O\n",
      "There are  0  patients of type OO\n"
     ]
    }
   ],
   "source": [
    "def bldcount(filename):\n",
    "    a = 0\n",
    "    b = 0\n",
    "    ab = 0 \n",
    "    o = 0\n",
    "    oo = 0\n",
    "    with open(filename, \"r\") as bloodtypefile:\n",
    "        blood_types = bloodtypefile.read().split()\n",
    "        print(blood_types)\n",
    "        for types in blood_types:\n",
    "            if types == 'AB':\n",
    "                ab += 1\n",
    "            elif types == 'B':\n",
    "                b += 1\n",
    "            elif types == 'O':\n",
    "                o += 1\n",
    "            elif types == 'A':\n",
    "                a += 1\n",
    "            else:\n",
    "                oo += 1\n",
    "    print(\"There are \",a,\" patients of type A\")\n",
    "    print(\"There are \",b,\" patients of type B\")\n",
    "    print(\"There are \",ab,\" patients of type AB\")\n",
    "    print(\"There are \",o,\" patients of type O\")\n",
    "    print(\"There are \",oo,\" patients of type OO\")\n",
    "\n",
    "bldcount(\"bloodtype1.txt\")"
   ]
  },
  {
   "cell_type": "markdown",
   "id": "2e027e27",
   "metadata": {},
   "source": [
    "# Answer 8"
   ]
  },
  {
   "cell_type": "code",
   "execution_count": 49,
   "id": "f88d1e0e",
   "metadata": {},
   "outputs": [
    {
     "name": "stdout",
     "output_type": "stream",
     "text": [
      "['AUD', '1.0345157', 'Australian', 'Dollar']\n",
      "['CHF', '1.0237414', 'Swiss', 'Franc']\n",
      "['CNY', '0.1550176', 'Chinese', 'Yuan']\n",
      "['DKK', '0.1651442', 'Danish', 'Krone']\n",
      "['EUR', '1.2296544', 'Euro']\n",
      "['GBP', '1.5550989', 'British', 'Pound']\n",
      "['HKD', '0.1270207', 'Hong', 'Kong', 'Dollar']\n",
      "['INR', '0.0177643', 'Indian', 'Rupee']\n",
      "['JPY', '0.01241401', 'Japanese', 'Yen']\n",
      "['MXN', '0.0751848', 'Mexican', 'Peso']\n",
      "['MYR', '0.3145411', 'Malaysian', 'Ringgit']\n",
      "['NOK', '0.1677063', 'Norwegian', 'Krone']\n",
      "['NZD', '0.8003591', 'New', 'Zealand', 'Dollar']\n",
      "['PHP', '0.0233234', 'Philippine', 'Peso']\n",
      "['SEK', '0.148269', 'Swedish', 'Krona']\n",
      "['SGD', '0.788871', 'Singapore', 'Dollar']\n",
      "['THB', '0.0313789', 'Thai', 'Baht']\n"
     ]
    }
   ],
   "source": [
    "exchange_rate_dictionary = {}\n",
    "\n",
    "def curconv(filename):\n",
    "    with open(filename, \"r\") as file:\n",
    "        for lines in file:\n",
    "            columns = lines.strip().split()\n",
    "            print(columns)\n",
    "\n",
    "curconv(\"currencies.txt\")"
   ]
  },
  {
   "cell_type": "markdown",
   "id": "294f1395",
   "metadata": {},
   "source": [
    "# Answer 9"
   ]
  },
  {
   "cell_type": "code",
   "execution_count": 54,
   "id": "3234b75e",
   "metadata": {},
   "outputs": [
    {
     "ename": "TypeError",
     "evalue": "unsupported operand type(s) for +: 'int' and 'str'",
     "output_type": "error",
     "traceback": [
      "\u001b[1;31m---------------------------------------------------------------------------\u001b[0m",
      "\u001b[1;31mTypeError\u001b[0m                                 Traceback (most recent call last)",
      "Cell \u001b[1;32mIn[54], line 1\u001b[0m\n\u001b[1;32m----> 1\u001b[0m \u001b[38;5;241m6\u001b[39m \u001b[38;5;241m+\u001b[39m \u001b[38;5;124m'\u001b[39m\u001b[38;5;124ma\u001b[39m\u001b[38;5;124m'\u001b[39m\n",
      "\u001b[1;31mTypeError\u001b[0m: unsupported operand type(s) for +: 'int' and 'str'"
     ]
    }
   ],
   "source": [
    "6 + 'a'"
   ]
  },
  {
   "cell_type": "code",
   "execution_count": 55,
   "id": "1896de9f",
   "metadata": {},
   "outputs": [
    {
     "ename": "IndexError",
     "evalue": "list index out of range",
     "output_type": "error",
     "traceback": [
      "\u001b[1;31m---------------------------------------------------------------------------\u001b[0m",
      "\u001b[1;31mIndexError\u001b[0m                                Traceback (most recent call last)",
      "Cell \u001b[1;32mIn[55], line 2\u001b[0m\n\u001b[0;32m      1\u001b[0m array \u001b[38;5;241m=\u001b[39m [\u001b[38;5;241m1\u001b[39m,\u001b[38;5;241m2\u001b[39m,\u001b[38;5;241m3\u001b[39m,\u001b[38;5;241m4\u001b[39m,\u001b[38;5;241m5\u001b[39m,\u001b[38;5;241m6\u001b[39m,\u001b[38;5;241m7\u001b[39m,\u001b[38;5;241m8\u001b[39m,\u001b[38;5;241m9\u001b[39m,\u001b[38;5;241m10\u001b[39m]\n\u001b[1;32m----> 2\u001b[0m \u001b[38;5;28mprint\u001b[39m(array[\u001b[38;5;241m12\u001b[39m])\n",
      "\u001b[1;31mIndexError\u001b[0m: list index out of range"
     ]
    }
   ],
   "source": [
    "array = [1,2,3,4,5,6,7,8,9,10]\n",
    "print(array[12])"
   ]
  },
  {
   "cell_type": "code",
   "execution_count": 56,
   "id": "850c988b",
   "metadata": {},
   "outputs": [
    {
     "ename": "ValueError",
     "evalue": "math domain error",
     "output_type": "error",
     "traceback": [
      "\u001b[1;31m---------------------------------------------------------------------------\u001b[0m",
      "\u001b[1;31mValueError\u001b[0m                                Traceback (most recent call last)",
      "Cell \u001b[1;32mIn[56], line 3\u001b[0m\n\u001b[0;32m      1\u001b[0m \u001b[38;5;28;01mimport\u001b[39;00m \u001b[38;5;21;01mmath\u001b[39;00m\n\u001b[1;32m----> 3\u001b[0m result \u001b[38;5;241m=\u001b[39m math\u001b[38;5;241m.\u001b[39msqrt(\u001b[38;5;241m-\u001b[39m\u001b[38;5;241m1.0\u001b[39m)\n",
      "\u001b[1;31mValueError\u001b[0m: math domain error"
     ]
    }
   ],
   "source": [
    "import math\n",
    "\n",
    "result = math.sqrt(-1.0)"
   ]
  },
  {
   "cell_type": "code",
   "execution_count": 57,
   "id": "bb009d51",
   "metadata": {},
   "outputs": [
    {
     "ename": "NameError",
     "evalue": "name 'x' is not defined",
     "output_type": "error",
     "traceback": [
      "\u001b[1;31m---------------------------------------------------------------------------\u001b[0m",
      "\u001b[1;31mNameError\u001b[0m                                 Traceback (most recent call last)",
      "Cell \u001b[1;32mIn[57], line 1\u001b[0m\n\u001b[1;32m----> 1\u001b[0m \u001b[38;5;28mprint\u001b[39m(x)\n",
      "\u001b[1;31mNameError\u001b[0m: name 'x' is not defined"
     ]
    }
   ],
   "source": [
    "print(x)"
   ]
  },
  {
   "cell_type": "code",
   "execution_count": 58,
   "id": "ef57ebd7",
   "metadata": {},
   "outputs": [
    {
     "ename": "SyntaxError",
     "evalue": "incomplete input (3273352177.py, line 1)",
     "output_type": "error",
     "traceback": [
      "\u001b[1;36m  Cell \u001b[1;32mIn[58], line 1\u001b[1;36m\u001b[0m\n\u001b[1;33m    with open(\"example.txt\", \"r\") as file:\u001b[0m\n\u001b[1;37m                                          ^\u001b[0m\n\u001b[1;31mSyntaxError\u001b[0m\u001b[1;31m:\u001b[0m incomplete input\n"
     ]
    }
   ],
   "source": [
    "with open(\"example.txt\", \"r\") as file:"
   ]
  },
  {
   "cell_type": "markdown",
   "id": "49d692f5",
   "metadata": {},
   "source": [
    "# Answer 10"
   ]
  },
  {
   "cell_type": "code",
   "execution_count": 53,
   "id": "9493a3df",
   "metadata": {},
   "outputs": [
    {
     "name": "stdout",
     "output_type": "stream",
     "text": [
      "[1, 1, 1, 3, 5, 1, 1, 2, 1, 0, 1, 0, 1, 2, 4, 0, 1, 2, 0, 3, 1, 0, 1, 1, 0, 0]\n",
      "[1, 0, 0, 0, 1, 0, 0, 0, 0, 0, 0, 1, 0, 0, 0, 2, 0, 0, 0, 0, 0, 0, 0, 0, 0, 0]\n"
     ]
    }
   ],
   "source": [
    "def frequencies(text):\n",
    "    letters = 'abcdefghijklmnopqrstuvwxyz'\n",
    "    frequency_list = [0] * 26\n",
    "    text = text.lower()\n",
    "    \n",
    "    for char in text:\n",
    "        if char in letters:\n",
    "            index = letters.index(char)\n",
    "            frequency_list[index] += 1\n",
    "    \n",
    "    return frequency_list\n",
    "\n",
    "result1 = frequencies('The quick red fox got bored and went home.')\n",
    "result2 = frequencies('apple')\n",
    "print(result1)\n",
    "print(result2)"
   ]
  },
  {
   "cell_type": "code",
   "execution_count": null,
   "id": "d54dbf48",
   "metadata": {},
   "outputs": [],
   "source": []
  }
 ],
 "metadata": {
  "kernelspec": {
   "display_name": "Python 3 (ipykernel)",
   "language": "python",
   "name": "python3"
  },
  "language_info": {
   "codemirror_mode": {
    "name": "ipython",
    "version": 3
   },
   "file_extension": ".py",
   "mimetype": "text/x-python",
   "name": "python",
   "nbconvert_exporter": "python",
   "pygments_lexer": "ipython3",
   "version": "3.11.4"
  }
 },
 "nbformat": 4,
 "nbformat_minor": 5
}
